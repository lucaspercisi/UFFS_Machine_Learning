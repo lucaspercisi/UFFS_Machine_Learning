{
  "nbformat": 4,
  "nbformat_minor": 0,
  "metadata": {
    "colab": {
      "name": "UCI_Adult.ipynb",
      "version": "0.3.2",
      "provenance": [],
      "collapsed_sections": [],
      "include_colab_link": true
    },
    "kernelspec": {
      "name": "python3",
      "display_name": "Python 3"
    }
  },
  "cells": [
    {
      "cell_type": "markdown",
      "metadata": {
        "id": "view-in-github",
        "colab_type": "text"
      },
      "source": [
        "<a href=\"https://colab.research.google.com/github/lucaspercisi/machineLearning/blob/master/UCI_Adult.ipynb\" target=\"_parent\"><img src=\"https://colab.research.google.com/assets/colab-badge.svg\" alt=\"Open In Colab\"/></a>"
      ]
    },
    {
      "metadata": {
        "id": "tgbO58HttF71",
        "colab_type": "text"
      },
      "cell_type": "markdown",
      "source": [
        "Bibliotecas utilizadas"
      ]
    },
    {
      "metadata": {
        "id": "0pnbIAY9lYL_",
        "colab_type": "code",
        "colab": {}
      },
      "cell_type": "code",
      "source": [
        "import numpy as np\n",
        "import pandas as pd\n",
        "from sklearn import linear_model"
      ],
      "execution_count": 0,
      "outputs": []
    },
    {
      "metadata": {
        "id": "U2Zj2_0VtNqX",
        "colab_type": "text"
      },
      "cell_type": "markdown",
      "source": [
        "Carrega o arquivo na raiz do Google Colab"
      ]
    },
    {
      "metadata": {
        "id": "jTWB7tvblYYH",
        "colab_type": "code",
        "colab": {}
      },
      "cell_type": "code",
      "source": [
        "data = np.loadtxt(\"/adult.data\", delimiter=\",\", dtype='str')"
      ],
      "execution_count": 0,
      "outputs": []
    },
    {
      "metadata": {
        "id": "_Z1SOXj2tVUT",
        "colab_type": "text"
      },
      "cell_type": "markdown",
      "source": [
        "Substitui o erro (' ?') pela maior incidencia dos valores da coluna"
      ]
    },
    {
      "metadata": {
        "id": "u6E4sdNHlbmX",
        "colab_type": "code",
        "colab": {}
      },
      "cell_type": "code",
      "source": [
        "for i in range(data.shape[1] - 1):\n",
        "\tcoluna = data[:,i]\n",
        "\tatributos = pd.value_counts(coluna)\n",
        "\tdata[data[:,i]==' ?', i] = atributos.idxmax()"
      ],
      "execution_count": 0,
      "outputs": []
    },
    {
      "metadata": {
        "id": "v6EfRT7gurJh",
        "colab_type": "text"
      },
      "cell_type": "markdown",
      "source": [
        "Laço para mapear os atributos alfabeticos por numericos, com excessão das colunas que já possuem atributos numericos. (O laço esta comentado porque deve estar errado, o resultado final piorou)"
      ]
    },
    {
      "metadata": {
        "id": "Uf337bhLlgKb",
        "colab_type": "code",
        "colab": {}
      },
      "cell_type": "code",
      "source": [
        "#for i in range(X.shape[1]):\n",
        "#  coluna = np.unique(X[:, i])\n",
        "#\t if not X[0,i].isdigit():\n",
        "#    X[X[:, i] == coluna[i], i] = i"
      ],
      "execution_count": 0,
      "outputs": []
    },
    {
      "metadata": {
        "id": "mn6Gc0rwvE0x",
        "colab_type": "text"
      },
      "cell_type": "markdown",
      "source": [
        "Laços para mapear os atributos alfabeticos por numericos, com excessão das colunas que já possuem atributos numericos. (Os laços estão manuais devido a problema do laço anterior)."
      ]
    },
    {
      "metadata": {
        "id": "c22JJtVOpt4e",
        "colab_type": "code",
        "colab": {}
      },
      "cell_type": "code",
      "source": [
        "workclass = np.unique(data[:, 1])\n",
        "for i in range(workclass.shape[0]):\n",
        " \tdata[data[:, 1] == workclass[i], 1] = i\n",
        "\n",
        "education = np.unique(data[:, 3])\n",
        "for i in range(education.shape[0]):\n",
        " \tdata[data[:, 3] == education[i], 3] = i\n",
        "\n",
        "marital = np.unique(data[:, 5])\n",
        "for i in range(marital.shape[0]):\n",
        " \tdata[data[:, 5] == marital[i], 5] = i\n",
        "\n",
        "occupation = np.unique(data[:, 6])\n",
        "for i in range(occupation.shape[0]):\n",
        " \tdata[data[:, 6] == occupation[i], 6] = i\n",
        "\n",
        "relationship = np.unique(data[:, 7])\n",
        "for i in range(relationship.shape[0]):\n",
        " \tdata[data[:, 7] == relationship[i], 7] = i\n",
        "\n",
        "race = np.unique(data[:, 8])\n",
        "for i in range(race.shape[0]):\n",
        " \tdata[data[:, 8] == race[i], 8] = i\n",
        "\n",
        "sex = np.unique(data[:, 9])\n",
        "for i in range(sex.shape[0]):\n",
        " \tdata[data[:, 9] == sex[i], 9] = i\n",
        "\n",
        "native = np.unique(data[:, 13])\n",
        "for i in range(native.shape[0]):\n",
        " \tdata[data[:, 13] == native[i], 13] = i"
      ],
      "execution_count": 0,
      "outputs": []
    },
    {
      "metadata": {
        "id": "TxlCjPJQvRzv",
        "colab_type": "text"
      },
      "cell_type": "markdown",
      "source": [
        "Extrai os dados e os rótulos"
      ]
    },
    {
      "metadata": {
        "id": "CByaUu4HqAQ4",
        "colab_type": "code",
        "colab": {}
      },
      "cell_type": "code",
      "source": [
        "X = data[:,:-1] #dados\n",
        "Y = data[:,-1] #rotulos"
      ],
      "execution_count": 0,
      "outputs": []
    },
    {
      "metadata": {
        "id": "xm0wKlfcvwB-",
        "colab_type": "text"
      },
      "cell_type": "markdown",
      "source": [
        "Mapeia os rótulos para valores numéricos"
      ]
    },
    {
      "metadata": {
        "id": "qd_c9Q30lgsr",
        "colab_type": "code",
        "colab": {}
      },
      "cell_type": "code",
      "source": [
        "u = np.unique(Y)\n",
        "np.place(Y, Y == u[0], 1)\n",
        "np.place(Y, Y == u[1], 2)"
      ],
      "execution_count": 0,
      "outputs": []
    },
    {
      "metadata": {
        "id": "WgqR7GXmv1EW",
        "colab_type": "text"
      },
      "cell_type": "markdown",
      "source": [
        "Define a quantidade de daos para treino."
      ]
    },
    {
      "metadata": {
        "id": "TQdu0TzMligx",
        "colab_type": "code",
        "colab": {}
      },
      "cell_type": "code",
      "source": [
        "train_data = int(data.shape[0]*0.7)"
      ],
      "execution_count": 0,
      "outputs": []
    },
    {
      "metadata": {
        "id": "wSPw0iPYv4nI",
        "colab_type": "text"
      },
      "cell_type": "markdown",
      "source": [
        "Separa dados de treino e converte para INT\n"
      ]
    },
    {
      "metadata": {
        "id": "C-OrfPAWlkE9",
        "colab_type": "code",
        "colab": {}
      },
      "cell_type": "code",
      "source": [
        "\n",
        "xtr = X[:train_data,:].astype(np.int)\n",
        "ytr = Y[:train_data].astype(np.int)"
      ],
      "execution_count": 0,
      "outputs": []
    },
    {
      "metadata": {
        "id": "-gE7FMi0v9Oj",
        "colab_type": "text"
      },
      "cell_type": "markdown",
      "source": [
        "Separa dados de teste e converte para INT\n"
      ]
    },
    {
      "metadata": {
        "id": "YFPhFD2_lmYY",
        "colab_type": "code",
        "colab": {}
      },
      "cell_type": "code",
      "source": [
        "xte = X[train_data:,:].astype(np.int)\n",
        "yte = Y[train_data:].astype(np.int)"
      ],
      "execution_count": 0,
      "outputs": []
    },
    {
      "metadata": {
        "id": "C106vUqlwKSG",
        "colab_type": "text"
      },
      "cell_type": "markdown",
      "source": [
        "Constrói a regressão logística com os dados de trieno e hiperparâmetros\n"
      ]
    },
    {
      "metadata": {
        "id": "erWN41uclnz4",
        "colab_type": "code",
        "outputId": "2e6e7838-f15b-4095-bb4c-40048ed8a00a",
        "colab": {
          "base_uri": "https://localhost:8080/",
          "height": 51
        }
      },
      "cell_type": "code",
      "source": [
        "model = linear_model.LogisticRegressionCV(max_iter=10000, refit=False, n_jobs=-1,\n",
        "\t\t\t\t\t\t\t\t\t  solver='liblinear', random_state=1008, penalty='l1').fit(xtr, ytr)\n"
      ],
      "execution_count": 53,
      "outputs": [
        {
          "output_type": "stream",
          "text": [
            "/usr/local/lib/python3.6/dist-packages/sklearn/model_selection/_split.py:2053: FutureWarning: You should specify a value for 'cv' instead of relying on the default value. The default value will change from 3 to 5 in version 0.22.\n",
            "  warnings.warn(CV_WARNING, FutureWarning)\n"
          ],
          "name": "stderr"
        }
      ]
    },
    {
      "metadata": {
        "id": "3gd4PI6cwQzJ",
        "colab_type": "text"
      },
      "cell_type": "markdown",
      "source": [
        "Faz a previsão com os dados de teste\n"
      ]
    },
    {
      "metadata": {
        "id": "sU_OOmsFlsE_",
        "colab_type": "code",
        "colab": {}
      },
      "cell_type": "code",
      "source": [
        "y_hat = model.predict(xte)"
      ],
      "execution_count": 0,
      "outputs": []
    },
    {
      "metadata": {
        "id": "c3NVBTJ3wUG4",
        "colab_type": "text"
      },
      "cell_type": "markdown",
      "source": [
        "Informa a taxa de acerto com os dados de teste.\n"
      ]
    },
    {
      "metadata": {
        "id": "qABLkhu3lsr-",
        "colab_type": "code",
        "outputId": "c62bc5a9-2df2-4e8f-de90-14b4b17a5337",
        "colab": {
          "base_uri": "https://localhost:8080/",
          "height": 34
        }
      },
      "cell_type": "code",
      "source": [
        "print('Taxa de acerto (teste):', np.mean(y_hat == yte))"
      ],
      "execution_count": 55,
      "outputs": [
        {
          "output_type": "stream",
          "text": [
            "Taxa de acerto (teste): 0.8258777766403931\n"
          ],
          "name": "stdout"
        }
      ]
    }
  ]
}