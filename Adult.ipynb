{
  "nbformat": 4,
  "nbformat_minor": 0,
  "metadata": {
    "colab": {
      "name": "Adult.ipynb",
      "version": "0.3.2",
      "provenance": [],
      "collapsed_sections": [],
      "include_colab_link": true
    },
    "kernelspec": {
      "name": "python3",
      "display_name": "Python 3"
    }
  },
  "cells": [
    {
      "cell_type": "markdown",
      "metadata": {
        "id": "view-in-github",
        "colab_type": "text"
      },
      "source": [
        "<a href=\"https://colab.research.google.com/github/lucaspercisi/machineLearning/blob/master/Adult.ipynb\" target=\"_parent\"><img src=\"https://colab.research.google.com/assets/colab-badge.svg\" alt=\"Open In Colab\"/></a>"
      ]
    },
    {
      "metadata": {
        "id": "0pnbIAY9lYL_",
        "colab_type": "code",
        "colab": {}
      },
      "cell_type": "code",
      "source": [
        "import numpy as np\n",
        "import pandas as pd\n",
        "from sklearn import linear_model"
      ],
      "execution_count": 0,
      "outputs": []
    },
    {
      "metadata": {
        "id": "jTWB7tvblYYH",
        "colab_type": "code",
        "colab": {}
      },
      "cell_type": "code",
      "source": [
        "data = np.loadtxt(\"/adult.data\", delimiter=\",\", dtype='str')"
      ],
      "execution_count": 0,
      "outputs": []
    },
    {
      "metadata": {
        "id": "u6E4sdNHlbmX",
        "colab_type": "code",
        "colab": {}
      },
      "cell_type": "code",
      "source": [
        "for i in range(data.shape[1] - 1):\n",
        "\tcoluna = data[:,i]\n",
        "\tatributos = pd.value_counts(coluna)\n",
        "\tdata[data[:,i]==' ?', i] = atributos.idxmax()"
      ],
      "execution_count": 0,
      "outputs": []
    },
    {
      "metadata": {
        "id": "Uf337bhLlgKb",
        "colab_type": "code",
        "colab": {}
      },
      "cell_type": "code",
      "source": [
        "for i in range(X.shape[1]):\n",
        "\tcoluna = np.unique(X[:, i])\n",
        "\tif not X[0,i].isdigit():\n",
        "    X[X[:, i] == coluna[i], i] = i"
      ],
      "execution_count": 0,
      "outputs": []
    },
    {
      "metadata": {
        "id": "c22JJtVOpt4e",
        "colab_type": "code",
        "colab": {}
      },
      "cell_type": "code",
      "source": [
        "workclass = np.unique(data[:, 1])\n",
        "for i in range(workclass.shape[0]):\n",
        " \tdata[data[:, 1] == workclass[i], 1] = i\n",
        "\n",
        "education = np.unique(data[:, 3])\n",
        "for i in range(education.shape[0]):\n",
        " \tdata[data[:, 3] == education[i], 3] = i\n",
        "\n",
        "marital = np.unique(data[:, 5])\n",
        "for i in range(marital.shape[0]):\n",
        " \tdata[data[:, 5] == marital[i], 5] = i\n",
        "\n",
        "occupation = np.unique(data[:, 6])\n",
        "for i in range(occupation.shape[0]):\n",
        " \tdata[data[:, 6] == occupation[i], 6] = i\n",
        "\n",
        "relationship = np.unique(data[:, 7])\n",
        "for i in range(relationship.shape[0]):\n",
        " \tdata[data[:, 7] == relationship[i], 7] = i\n",
        "\n",
        "race = np.unique(data[:, 8])\n",
        "for i in range(race.shape[0]):\n",
        " \tdata[data[:, 8] == race[i], 8] = i\n",
        "\n",
        "sex = np.unique(data[:, 9])\n",
        "for i in range(sex.shape[0]):\n",
        " \tdata[data[:, 9] == sex[i], 9] = i\n",
        "\n",
        "native = np.unique(data[:, 13])\n",
        "for i in range(native.shape[0]):\n",
        " \tdata[data[:, 13] == native[i], 13] = i"
      ],
      "execution_count": 0,
      "outputs": []
    },
    {
      "metadata": {
        "id": "CByaUu4HqAQ4",
        "colab_type": "code",
        "colab": {}
      },
      "cell_type": "code",
      "source": [
        "X = data[:,:-1] #dados\n",
        "Y = data[:,-1] #rotulos"
      ],
      "execution_count": 0,
      "outputs": []
    },
    {
      "metadata": {
        "id": "qd_c9Q30lgsr",
        "colab_type": "code",
        "colab": {}
      },
      "cell_type": "code",
      "source": [
        "u = np.unique(Y)\n",
        "np.place(Y, Y == u[0], 1)\n",
        "np.place(Y, Y == u[1], 2)"
      ],
      "execution_count": 0,
      "outputs": []
    },
    {
      "metadata": {
        "id": "TQdu0TzMligx",
        "colab_type": "code",
        "colab": {}
      },
      "cell_type": "code",
      "source": [
        "train_data = int(data.shape[0]*0.7)"
      ],
      "execution_count": 0,
      "outputs": []
    },
    {
      "metadata": {
        "id": "C-OrfPAWlkE9",
        "colab_type": "code",
        "colab": {}
      },
      "cell_type": "code",
      "source": [
        "#separa e converte dados de treino\n",
        "xtr = X[:train_data,:].astype(np.int)\n",
        "ytr = Y[:train_data].astype(np.int)"
      ],
      "execution_count": 0,
      "outputs": []
    },
    {
      "metadata": {
        "id": "YFPhFD2_lmYY",
        "colab_type": "code",
        "colab": {}
      },
      "cell_type": "code",
      "source": [
        "#separa e converte dados de teste\n",
        "xte = X[train_data:,:].astype(np.int)\n",
        "yte = Y[train_data:].astype(np.int)"
      ],
      "execution_count": 0,
      "outputs": []
    },
    {
      "metadata": {
        "id": "erWN41uclnz4",
        "colab_type": "code",
        "outputId": "f13c16f5-5fe9-4b02-b93b-01ca7b89ec63",
        "colab": {
          "base_uri": "https://localhost:8080/",
          "height": 71
        }
      },
      "cell_type": "code",
      "source": [
        "#Constroi a regressao logistica com os dados de trieno e hiperparametros\n",
        "model = linear_model.LogisticRegressionCV(max_iter=10000, refit=False, n_jobs=-1,\n",
        "\t\t\t\t\t\t\t\t\t  solver='liblinear', random_state=1008, penalty='l1').fit(xtr, ytr)\n"
      ],
      "execution_count": 0,
      "outputs": [
        {
          "output_type": "stream",
          "text": [
            "/usr/local/lib/python3.6/dist-packages/sklearn/model_selection/_split.py:2053: FutureWarning: You should specify a value for 'cv' instead of relying on the default value. The default value will change from 3 to 5 in version 0.22.\n",
            "  warnings.warn(CV_WARNING, FutureWarning)\n"
          ],
          "name": "stderr"
        }
      ]
    },
    {
      "metadata": {
        "id": "sU_OOmsFlsE_",
        "colab_type": "code",
        "colab": {}
      },
      "cell_type": "code",
      "source": [
        "#faz a previsão com os dados de teste\n",
        "y_hat = model.predict(xte)"
      ],
      "execution_count": 0,
      "outputs": []
    },
    {
      "metadata": {
        "id": "qABLkhu3lsr-",
        "colab_type": "code",
        "outputId": "9ed14301-d7f8-4d5d-e8a0-cee1565f8251",
        "colab": {
          "base_uri": "https://localhost:8080/",
          "height": 34
        }
      },
      "cell_type": "code",
      "source": [
        "#informa o erro com os rotulos separados.\n",
        "print('Taxa de acerto (teste):', np.mean(y_hat == yte))"
      ],
      "execution_count": 0,
      "outputs": [
        {
          "output_type": "stream",
          "text": [
            "Taxa de acerto (teste): 0.8258777766403931\n"
          ],
          "name": "stdout"
        }
      ]
    }
  ]
}